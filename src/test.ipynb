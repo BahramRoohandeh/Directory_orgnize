{
 "cells": [
  {
   "cell_type": "code",
   "execution_count": 110,
   "id": "5984a269-df87-453f-b636-e3295ec62a85",
   "metadata": {},
   "outputs": [],
   "source": [
    "from pathlib import Path\n",
    "from collections import Counter\n",
    "import shutil\n",
    "import json"
   ]
  },
  {
   "cell_type": "code",
   "execution_count": 111,
   "id": "e13fa9ce-0a03-4dab-a4d0-d7da66d44099",
   "metadata": {},
   "outputs": [],
   "source": [
    "dir_path = Path(\"/home/bahram/Downloads\")"
   ]
  },
  {
   "cell_type": "code",
   "execution_count": null,
   "id": "4ed5491f-fdef-4944-b4fe-86537f101545",
   "metadata": {},
   "outputs": [],
   "source": []
  },
  {
   "cell_type": "code",
   "execution_count": 112,
   "id": "9e3ac7d2-8e4d-4cd8-92a2-b354f6ccb957",
   "metadata": {},
   "outputs": [],
   "source": [
    "ext_json = {\n",
    "    'image' : ['.jpg', 'jpeg', '.png', '.bmp', '.gif'],\n",
    "    'video' : ['.mkv', '.mp4', '.avi', '.mpeg', '.mov'],\n",
    "    'audio' : ['.mp3', '.wav', '.flac', '.aac'],\n",
    "    'documents' : ['.txt', '.pdf', '.xls', '.docs', '.xlxs', '.ppt'],\n",
    "    'compressed' : ['.rar', '.zip', '.tar', '.gz', '.7z'],\n",
    "    'executables' : ['.exe', '.msi', '.apk', '.bin', '.dmg']\n",
    "}"
   ]
  },
  {
   "cell_type": "code",
   "execution_count": 114,
   "id": "8c21009f-f00d-4508-88dc-e3425440effe",
   "metadata": {},
   "outputs": [],
   "source": [
    "f = json.dumps(ext_json)"
   ]
  },
  {
   "cell_type": "code",
   "execution_count": 122,
   "id": "9cdb5871-16d4-4496-9b96-1eed4fb3915d",
   "metadata": {},
   "outputs": [],
   "source": [
    "with open(\"./data/ext.json\", \"w\") as j:\n",
    "    json.dump(ext_json, j, indent=4)"
   ]
  },
  {
   "cell_type": "code",
   "execution_count": 104,
   "id": "b0f53506-1ebb-4923-b088-9364ca3997d0",
   "metadata": {},
   "outputs": [],
   "source": [
    "category = {}\n",
    "for folder_cat , sufs in ext_json.items():\n",
    "    for suf in sufs :\n",
    "        category[suf] = folder_cat\n",
    "    "
   ]
  },
  {
   "cell_type": "code",
   "execution_count": 105,
   "id": "8536940f-3585-44e9-82c1-50783333c072",
   "metadata": {},
   "outputs": [
    {
     "data": {
      "text/plain": [
       "{'.jpg': 'image',\n",
       " 'jpeg': 'image',\n",
       " '.png': 'image',\n",
       " '.bmp': 'image',\n",
       " '.gif': 'image',\n",
       " '.mkv': 'video',\n",
       " '.mp4': 'video',\n",
       " '.avi': 'video',\n",
       " '.mpeg': 'video',\n",
       " '.mov': 'video',\n",
       " '.mp3': 'audio',\n",
       " '.wav': 'audio',\n",
       " '.flac': 'audio',\n",
       " '.aac': 'audio',\n",
       " '.txt': 'documents',\n",
       " '.pdf': 'documents',\n",
       " '.xls': 'documents',\n",
       " '.docs': 'documents',\n",
       " '.xlxs': 'documents',\n",
       " '.ppt': 'documents',\n",
       " '.rar': 'compressed',\n",
       " '.zip': 'compressed',\n",
       " '.tar': 'compressed',\n",
       " '.gz': 'compressed',\n",
       " '.7z': 'compressed',\n",
       " '.exe': 'executables',\n",
       " '.msi': 'executables',\n",
       " '.apk': 'executables',\n",
       " '.bin': 'executables',\n",
       " '.dmg': 'executables'}"
      ]
     },
     "execution_count": 105,
     "metadata": {},
     "output_type": "execute_result"
    }
   ],
   "source": [
    "category"
   ]
  },
  {
   "cell_type": "code",
   "execution_count": null,
   "id": "38de3408-c157-4f96-a6f2-529dbcbc097c",
   "metadata": {},
   "outputs": [],
   "source": []
  },
  {
   "cell_type": "code",
   "execution_count": 106,
   "id": "0be518e1-ba5d-4e28-9b17-4be81fe8763e",
   "metadata": {},
   "outputs": [],
   "source": [
    "ext =[]\n",
    "for files in dir_path.iterdir():\n",
    "    if files.is_dir():\n",
    "        continue\n",
    "    if files.name.startswith('.'):\n",
    "        continue\n",
    "        \n",
    "    if files.suffix not in category:\n",
    "        folder_path = dir_path/'others'        \n",
    "    else:\n",
    "        folder_path = dir_path/category[files.suffix]\n",
    "    \n",
    "    folder_path.mkdir(exist_ok = True)  \n",
    "    shutil.move(str(files) , str(folder_path))\n",
    "    print(f'{files.suffix:10}{folder_path}')\n",
    "    ext.append(files.suffix)\n",
    "    "
   ]
  },
  {
   "cell_type": "code",
   "execution_count": 107,
   "id": "d4d6e1b3-849b-433a-9289-987feea16e3a",
   "metadata": {},
   "outputs": [
    {
     "data": {
      "text/plain": [
       "[('.pdf', 9), ('.docx', 2), ('.txt', 1)]"
      ]
     },
     "execution_count": 107,
     "metadata": {},
     "output_type": "execute_result"
    }
   ],
   "source": [
    "Counter(ext).most_common()"
   ]
  },
  {
   "cell_type": "code",
   "execution_count": null,
   "id": "027c9cac-22b5-40af-b56c-efb5511c167a",
   "metadata": {},
   "outputs": [],
   "source": []
  }
 ],
 "metadata": {
  "kernelspec": {
   "display_name": "Python 3 (ipykernel)",
   "language": "python",
   "name": "python3"
  },
  "language_info": {
   "codemirror_mode": {
    "name": "ipython",
    "version": 3
   },
   "file_extension": ".py",
   "mimetype": "text/x-python",
   "name": "python",
   "nbconvert_exporter": "python",
   "pygments_lexer": "ipython3",
   "version": "3.8.13"
  }
 },
 "nbformat": 4,
 "nbformat_minor": 5
}
